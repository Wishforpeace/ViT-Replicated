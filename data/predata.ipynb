{
 "cells": [
  {
   "cell_type": "code",
   "execution_count": 2,
   "metadata": {},
   "outputs": [
    {
     "name": "stdout",
     "output_type": "stream",
     "text": [
      "Manually created transforms: Compose(\n",
      "    Resize(size=(224, 224), interpolation=bilinear, max_size=None, antialias=True)\n",
      "    ToTensor()\n",
      ")\n"
     ]
    },
    {
     "ename": "ModuleNotFoundError",
     "evalue": "No module named 'modular'",
     "output_type": "error",
     "traceback": [
      "\u001b[0;31m---------------------------------------------------------------------------\u001b[0m",
      "\u001b[0;31mModuleNotFoundError\u001b[0m                       Traceback (most recent call last)",
      "Cell \u001b[0;32mIn[2], line 24\u001b[0m\n\u001b[1;32m     19\u001b[0m \u001b[38;5;28;01mimport\u001b[39;00m \u001b[38;5;21;01mos\u001b[39;00m\n\u001b[1;32m     21\u001b[0m \u001b[38;5;66;03m# script_path = os.path.abspath(__file__)  # 获取当前脚本的绝对路径\u001b[39;00m\n\u001b[1;32m     22\u001b[0m \u001b[38;5;66;03m# parent_dir = os.path.dirname(os.path.dirname(script_path))  # 获取父目录的路径\u001b[39;00m\n\u001b[1;32m     23\u001b[0m \u001b[38;5;66;03m# sys.path.append(parent_dir)\u001b[39;00m\n\u001b[0;32m---> 24\u001b[0m \u001b[38;5;28;01mfrom\u001b[39;00m \u001b[38;5;21;01mmodular\u001b[39;00m\u001b[38;5;21;01m.\u001b[39;00m\u001b[38;5;21;01mdata_setup\u001b[39;00m \u001b[38;5;28;01mimport\u001b[39;00m create_dataloaders\n\u001b[1;32m     26\u001b[0m BATCH_SIZE \u001b[38;5;241m=\u001b[39m \u001b[38;5;241m32\u001b[39m\n\u001b[1;32m     27\u001b[0m train_dir \u001b[38;5;241m=\u001b[39m \u001b[38;5;124m\"\u001b[39m\u001b[38;5;124m/mnt/disk1/wyx/MSA/Lab/ViT-Replicated/data/pizza_steak_sushi/train\u001b[39m\u001b[38;5;124m\"\u001b[39m\n",
      "\u001b[0;31mModuleNotFoundError\u001b[0m: No module named 'modular'"
     ]
    }
   ],
   "source": [
    "import os\n",
    "\n",
    "from torchvision import datasets, transforms\n",
    "from torch.utils.data import DataLoader\n",
    "\n",
    "\n",
    "IMG_SIZE = 224\n",
    "\n",
    "# Create transform pipeline manually\n",
    "\n",
    "manual_transforms = transforms.Compose([\n",
    "    transforms.Resize((IMG_SIZE, IMG_SIZE)),\n",
    "    transforms.ToTensor(),\n",
    "])\n",
    "\n",
    "print(f\"Manually created transforms: {manual_transforms}\")\n",
    "\n",
    "import sys\n",
    "import os\n",
    "\n",
    "# script_path = os.path.abspath(__file__)  # 获取当前脚本的绝对路径\n",
    "# parent_dir = os.path.dirname(os.path.dirname(script_path))  # 获取父目录的路径\n",
    "# sys.path.append(parent_dir)\n",
    "from modular.data_setup import create_dataloaders\n",
    "\n",
    "BATCH_SIZE = 32\n",
    "train_dir = \"/mnt/disk1/wyx/MSA/Lab/ViT-Replicated/data/pizza_steak_sushi/train\"\n",
    "test_dir = \"/mnt/disk1/wyx/MSA/Lab/ViT-Replicated/data/pizza_steak_sushi/test\"\n",
    "train_dataloader,test_dataloader,class_names = create_dataloaders(\n",
    "    train_dir = train_dir,\n",
    "    test_dir = test_dir,\n",
    "    transform = manual_transforms,\n",
    "    batch_size = BATCH_SIZE\n",
    ")\n",
    "\n",
    "print(train_dataloader, test_dataloader ,class_names)\n",
    "\n",
    "\n",
    "\n",
    "\n",
    "# Get a batch of images\n",
    "image_batch, label_batch = next(iter(train_dataloader))\n",
    "\n",
    "# Get a single image from the batch\n",
    "image, label = image_batch[0], label_batch[0]\n",
    "\n",
    "# View the batch shapes\n",
    "print(image.shape, label)\n",
    "\n",
    "\n",
    "\n",
    "import matplotlib.pyplot as plt\n",
    "# Plot image with matplotlib\n",
    "plt.imshow(image.permute(1, 2, 0)) # rearrange image dimensions to suit matplotlib [color_channels, height, width] -> [height, width, color_channels]\n",
    "plt.title(class_names[label])\n",
    "plt.axis(False)"
   ]
  },
  {
   "cell_type": "code",
   "execution_count": null,
   "metadata": {},
   "outputs": [],
   "source": []
  }
 ],
 "metadata": {
  "kernelspec": {
   "display_name": "MSA",
   "language": "python",
   "name": "python3"
  },
  "language_info": {
   "codemirror_mode": {
    "name": "ipython",
    "version": 3
   },
   "file_extension": ".py",
   "mimetype": "text/x-python",
   "name": "python",
   "nbconvert_exporter": "python",
   "pygments_lexer": "ipython3",
   "version": "3.9.18"
  }
 },
 "nbformat": 4,
 "nbformat_minor": 2
}
